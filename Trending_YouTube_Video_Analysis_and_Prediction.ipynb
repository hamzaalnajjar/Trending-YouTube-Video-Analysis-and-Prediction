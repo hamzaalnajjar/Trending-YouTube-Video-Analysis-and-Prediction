{
  "nbformat": 4,
  "nbformat_minor": 0,
  "metadata": {
    "colab": {
      "provenance": []
    },
    "kernelspec": {
      "name": "python3",
      "display_name": "Python 3"
    },
    "language_info": {
      "name": "python"
    }
  },
  "cells": [
    {
      "cell_type": "code",
      "execution_count": 2,
      "metadata": {
        "colab": {
          "base_uri": "https://localhost:8080/",
          "height": 676
        },
        "id": "45jIp_pVMgy0",
        "outputId": "f206d04c-2a99-407f-d536-c2cde451f259"
      },
      "outputs": [
        {
          "output_type": "stream",
          "name": "stdout",
          "text": [
            "Mounted at /content/drive\n",
            "Accuracy: 0.42857142857142855\n",
            "              precision    recall  f1-score   support\n",
            "\n",
            "           0       0.67      0.40      0.50         5\n",
            "           1       0.25      0.50      0.33         2\n",
            "\n",
            "    accuracy                           0.43         7\n",
            "   macro avg       0.46      0.45      0.42         7\n",
            "weighted avg       0.55      0.43      0.45         7\n",
            "\n"
          ]
        },
        {
          "output_type": "display_data",
          "data": {
            "text/plain": [
              "<Figure size 800x500 with 1 Axes>"
            ],
            "image/png": "[encoded data removed]"
          },
          "metadata": {}
        },
        {
          "output_type": "stream",
          "name": "stdout",
          "text": [
            "Model and scaler saved to Google Drive!\n"
          ]
        }
      ],
      "source": [
        "import pandas as pd\n",
        "import numpy as np\n",
        "import matplotlib.pyplot as plt\n",
        "import seaborn as sns\n",
        "from sklearn.model_selection import train_test_split\n",
        "from sklearn.preprocessing import LabelEncoder, StandardScaler\n",
        "from sklearn.ensemble import RandomForestClassifier\n",
        "from sklearn.metrics import accuracy_score, classification_report\n",
        "import pickle\n",
        "from google.colab import drive\n",
        "\n",
        "# Mount Google Drive\n",
        "drive.mount('/content/drive')\n",
        "\n",
        "# Load dataset from Google Drive\n",
        "dataset_path = \"/content/drive/My Drive/youtube_categories.csv\"  # Update with the correct path\n",
        "youtube_df = pd.read_csv(dataset_path)\n",
        "\n",
        "# Display first few rows\n",
        "youtube_df.head()\n",
        "\n",
        "# Drop unnecessary columns\n",
        "youtube_df = youtube_df[['Category ID', 'Category Title', 'Assignable']]\n",
        "\n",
        "# Encode categorical variables\n",
        "le = LabelEncoder()\n",
        "youtube_df['Category Title'] = le.fit_transform(youtube_df['Category Title'])\n",
        "\n",
        "# Define features and target\n",
        "X = youtube_df[['Category Title']]\n",
        "y = youtube_df['Assignable'].astype(int)  # Convert boolean to int\n",
        "\n",
        "# Split data into training and testing sets\n",
        "X_train, X_test, y_train, y_test = train_test_split(X, y, test_size=0.2, random_state=42)\n",
        "\n",
        "# Scale features\n",
        "scaler = StandardScaler()\n",
        "X_train = scaler.fit_transform(X_train)\n",
        "X_test = scaler.transform(X_test)\n",
        "\n",
        "# Train a RandomForestClassifier\n",
        "model = RandomForestClassifier(n_estimators=100, random_state=42)\n",
        "model.fit(X_train, y_train)\n",
        "\n",
        "# Predict and evaluate\n",
        "y_pred = model.predict(X_test)\n",
        "accuracy = accuracy_score(y_test, y_pred)\n",
        "print(\"Accuracy:\", accuracy)\n",
        "print(classification_report(y_test, y_pred))\n",
        "\n",
        "# Visualization: Feature Importance\n",
        "feature_importance = model.feature_importances_\n",
        "features = ['Category Title']\n",
        "plt.figure(figsize=(8,5))\n",
        "sns.barplot(x=feature_importance, y=features)\n",
        "plt.title(\"Feature Importance in Predicting Assignable Categories\")\n",
        "plt.show()\n",
        "\n",
        "# Save model and scaler for reuse\n",
        "with open(\"/content/drive/My Drive/model.pkl\", \"wb\") as f:\n",
        "    pickle.dump(model, f)\n",
        "with open(\"/content/drive/My Drive/scaler.pkl\", \"wb\") as f:\n",
        "    pickle.dump(scaler, f)\n",
        "\n",
        "print(\"Model and scaler saved to Google Drive!\")\n"
      ]
    }
  ]
}