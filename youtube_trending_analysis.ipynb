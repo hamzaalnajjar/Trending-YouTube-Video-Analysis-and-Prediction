import pandas as pd
import numpy as np
import matplotlib.pyplot as plt
import seaborn as sns
from sklearn.model_selection import train_test_split
from sklearn.preprocessing import LabelEncoder, StandardScaler
from sklearn.ensemble import RandomForestClassifier
from sklearn.metrics import accuracy_score, classification_report

# Load dataset (Replace with your own dataset from Kaggle)
youtube_df = pd.read_csv("https://raw.githubusercontent.com/datasciencedojo/datasets/master/YouTubeTrendingDataset.csv")

# Display first few rows
youtube_df.head()

# Drop unnecessary columns
youtube_df = youtube_df[['title', 'category', 'views', 'likes', 'dislikes', 'comment_count']]

# Handle missing values
youtube_df.dropna(inplace=True)

# Encode categorical variables
le = LabelEncoder()
youtube_df['category'] = le.fit_transform(youtube_df['category'])

# Feature Engineering: Create a new target variable 'trending'
youtube_df['trending'] = np.where(youtube_df['views'] > youtube_df['views'].quantile(0.75), 1, 0)

# Define features and target
X = youtube_df[['category', 'likes', 'dislikes', 'comment_count']]
y = youtube_df['trending']

# Split data into training and testing sets
X_train, X_test, y_train, y_test = train_test_split(X, y, test_size=0.2, random_state=42)

# Scale features
scaler = StandardScaler()
X_train = scaler.fit_transform(X_train)
X_test = scaler.transform(X_test)

# Train a RandomForestClassifier
model = RandomForestClassifier(n_estimators=100, random_state=42)
model.fit(X_train, y_train)

# Predict and evaluate
y_pred = model.predict(X_test)
accuracy = accuracy_score(y_test, y_pred)
print("Accuracy:", accuracy)
print(classification_report(y_test, y_pred))

# Visualization: Feature Importance
feature_importance = model.feature_importances_
features = X.columns
plt.figure(figsize=(8,5))
sns.barplot(x=feature_importance, y=features)
plt.title("Feature Importance in Predicting Trending Videos")
plt.show()
