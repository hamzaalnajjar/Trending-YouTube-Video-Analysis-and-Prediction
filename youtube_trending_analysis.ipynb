import pandas as pd
import numpy as np
import matplotlib.pyplot as plt
import seaborn as sns
from sklearn.model_selection import train_test_split
from sklearn.preprocessing import LabelEncoder, StandardScaler
from sklearn.ensemble import RandomForestClassifier
from sklearn.metrics import accuracy_score, classification_report
import pickle

#loads dataset (from online)
dataset_path = "youtube_categories.csv"  # Ensure this file is in the same directory
youtube_df = pd.read_csv(dataset_path)

#displays first few rows
youtube_df.head()

#drops any unnecessary columns
youtube_df = youtube_df[['Category ID', 'Category Title', 'Assignable']]

#encodes categorical variables
le = LabelEncoder()
youtube_df['Category Title'] = le.fit_transform(youtube_df['Category Title'])

#defining features and target
X = youtube_df[['Category Title']]
y = youtube_df['Assignable'].astype(int)  # Convert boolean to int

#splits data into training and testing sets
X_train, X_test, y_train, y_test = train_test_split(X, y, test_size=0.2, random_state=42)

#scaling features
scaler = StandardScaler()
X_train = scaler.fit_transform(X_train)
X_test = scaler.transform(X_test)

#trains model RandomForestClassifier
model = RandomForestClassifier(n_estimators=100, random_state=42)
model.fit(X_train, y_train)

#predicts + evaluate
y_pred = model.predict(X_test)
accuracy = accuracy_score(y_test, y_pred)
print("Accuracy:", accuracy)
print(classification_report(y_test, y_pred))

#visualization
feature_importance = model.feature_importances_
features = ['Category Title']
plt.figure(figsize=(8,5))
sns.barplot(x=feature_importance, y=features)
plt.title("Feature Importance in Predicting Assignable Categories")
plt.show()

#saves model and scaler for reuse
with open("model.pkl", "wb") as f:
    pickle.dump(model, f)
with open("scaler.pkl", "wb") as f:
    pickle.dump(scaler, f)

print("Model and scaler saved!")
